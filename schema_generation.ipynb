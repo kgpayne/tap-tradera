{
 "cells": [
  {
   "cell_type": "code",
   "execution_count": 1,
   "id": "9a7e3d2c",
   "metadata": {},
   "outputs": [],
   "source": [
    "import os\n",
    "import dotenv"
   ]
  },
  {
   "cell_type": "code",
   "execution_count": 2,
   "id": "66e567f1",
   "metadata": {},
   "outputs": [],
   "source": [
    "import zeep\n",
    "import json\n",
    "from tap_tradera.client import TraderaClient"
   ]
  },
  {
   "cell_type": "code",
   "execution_count": 3,
   "id": "96db6c11",
   "metadata": {},
   "outputs": [
    {
     "data": {
      "text/plain": [
       "True"
      ]
     },
     "execution_count": 3,
     "metadata": {},
     "output_type": "execute_result"
    }
   ],
   "source": [
    "dotenv.load_dotenv(\".env\")"
   ]
  },
  {
   "cell_type": "code",
   "execution_count": 4,
   "id": "09f2ad70",
   "metadata": {},
   "outputs": [
    {
     "name": "stderr",
     "output_type": "stream",
     "text": [
      "Forcing http:address location to HTTPS\n",
      "Forcing http:address location to HTTPS\n"
     ]
    }
   ],
   "source": [
    "client = TraderaClient(\n",
    "    app_id=os.getenv(\"TAP_TRADERA_APP_ID\"), app_key=os.getenv(\"TAP_TRADERA_APP_KEY\")\n",
    ")"
   ]
  },
  {
   "cell_type": "code",
   "execution_count": 5,
   "id": "14b4d444",
   "metadata": {
    "scrolled": true
   },
   "outputs": [],
   "source": [
    "search_results = client.search(\"primus\")"
   ]
  },
  {
   "cell_type": "code",
   "execution_count": 6,
   "id": "854fe1f4",
   "metadata": {},
   "outputs": [
    {
     "data": {
      "text/plain": [
       "{'Id': 570065887,\n",
       " 'ShortDescription': 'Antik fotgen lyckta primus. ',\n",
       " 'BuyItNowPrice': None,\n",
       " 'SellerId': 5339175,\n",
       " 'SellerAlias': 'Lennart234',\n",
       " 'MaxBid': 1500,\n",
       " 'ThumbnailLink': 'https://img.tradera.net/thumbs/757/509512757_4566be26-a5e0-43c0-9e62-e68ae20cf810.jpg',\n",
       " 'SellerDsrAverage': 0.0,\n",
       " 'EndDate': datetime.datetime(2022, 11, 24, 14, 28, 56, 1000, tzinfo=<FixedOffset '+01:00'>),\n",
       " 'NextBid': 1500,\n",
       " 'HasBids': False,\n",
       " 'IsEnded': False,\n",
       " 'ItemType': 'Auction',\n",
       " 'ItemUrl': 'https://www.tradera.com/item/201108/570065887/antik-fotgen-lyckta-primus-',\n",
       " 'CategoryId': 201108,\n",
       " 'BidCount': 0,\n",
       " 'ImageLinks': {'ImageLink': [{'Url': 'https://img.tradera.net/medium/757/509512757_4566be26-a5e0-43c0-9e62-e68ae20cf810.jpg',\n",
       "    'Format': 'gallery'},\n",
       "   {'Url': 'https://img.tradera.net/images/757/509512757_4566be26-a5e0-43c0-9e62-e68ae20cf810.jpg',\n",
       "    'Format': 'normal'},\n",
       "   {'Url': 'https://img.tradera.net/thumbs/757/509512757_4566be26-a5e0-43c0-9e62-e68ae20cf810.jpg',\n",
       "    'Format': 'thumb'},\n",
       "   {'Url': 'https://img.tradera.net/minithumb/757/509512757_4566be26-a5e0-43c0-9e62-e68ae20cf810.jpg',\n",
       "    'Format': 'minithumb'}]},\n",
       " 'AttributeValues': {'TermAttributeValues': None,\n",
       "  'NumberAttributeValues': None}}"
      ]
     },
     "execution_count": 6,
     "metadata": {},
     "output_type": "execute_result"
    }
   ],
   "source": [
    "search_result = zeep.helpers.serialize_object(search_results[0], dict)\n",
    "search_result"
   ]
  },
  {
   "cell_type": "raw",
   "id": "e77b3eab",
   "metadata": {},
   "source": [
    "!rm -rf output/search_items.jsonl"
   ]
  },
  {
   "cell_type": "raw",
   "id": "a481340b",
   "metadata": {},
   "source": [
    "with open(\"output/search_items.jsonl\", \"w\") as output_file:\n",
    "    for search_item in search_results:\n",
    "        json.dump(zeep.helpers.serialize_object(search_item, dict), output_file, default=str, sort_keys=True)\n",
    "        output_file.write(\"\\n\")"
   ]
  },
  {
   "cell_type": "raw",
   "id": "3074c23a",
   "metadata": {},
   "source": [
    "!tail output/search_items.jsonl"
   ]
  },
  {
   "cell_type": "raw",
   "id": "0757ef18",
   "metadata": {
    "scrolled": true
   },
   "source": [
    "search_items = []\n",
    "with open(\"output/search_items.jsonl\", \"r\") as input_file:\n",
    "    for line in input_file.readlines():\n",
    "        search_items.append(\n",
    "            json.loads(line)\n",
    "        )\n",
    "search_items"
   ]
  },
  {
   "cell_type": "code",
   "execution_count": 15,
   "id": "13f3f15f",
   "metadata": {},
   "outputs": [
    {
     "data": {
      "text/plain": [
       "{'Id': 570065887,\n",
       " 'ShortDescription': 'Antik fotgen lyckta primus. ',\n",
       " 'BuyItNowPrice': None,\n",
       " 'SellerId': 5339175,\n",
       " 'SellerAlias': 'Lennart234',\n",
       " 'MaxBid': 1500,\n",
       " 'ThumbnailLink': 'https://img.tradera.net/thumbs/757/509512757_4566be26-a5e0-43c0-9e62-e68ae20cf810.jpg',\n",
       " 'SellerDsrAverage': 0.0,\n",
       " 'EndDate': datetime.datetime(2022, 11, 24, 14, 28, 56, 1000, tzinfo=<FixedOffset '+01:00'>),\n",
       " 'NextBid': 1500,\n",
       " 'HasBids': False,\n",
       " 'IsEnded': False,\n",
       " 'ItemType': 'Auction',\n",
       " 'ItemUrl': 'https://www.tradera.com/item/201108/570065887/antik-fotgen-lyckta-primus-',\n",
       " 'CategoryId': 201108,\n",
       " 'BidCount': 0,\n",
       " 'ImageLinks': {'ImageLink': [{'Url': 'https://img.tradera.net/medium/757/509512757_4566be26-a5e0-43c0-9e62-e68ae20cf810.jpg',\n",
       "    'Format': 'gallery'},\n",
       "   {'Url': 'https://img.tradera.net/images/757/509512757_4566be26-a5e0-43c0-9e62-e68ae20cf810.jpg',\n",
       "    'Format': 'normal'},\n",
       "   {'Url': 'https://img.tradera.net/thumbs/757/509512757_4566be26-a5e0-43c0-9e62-e68ae20cf810.jpg',\n",
       "    'Format': 'thumb'},\n",
       "   {'Url': 'https://img.tradera.net/minithumb/757/509512757_4566be26-a5e0-43c0-9e62-e68ae20cf810.jpg',\n",
       "    'Format': 'minithumb'}]},\n",
       " 'AttributeValues': {'TermAttributeValues': None,\n",
       "  'NumberAttributeValues': None}}"
      ]
     },
     "execution_count": 15,
     "metadata": {},
     "output_type": "execute_result"
    }
   ],
   "source": [
    "search_items = [\n",
    "    zeep.helpers.serialize_object(search_item, dict) for search_item in search_results\n",
    "]\n",
    "search_items[0]"
   ]
  },
  {
   "cell_type": "code",
   "execution_count": 20,
   "id": "3733be4f",
   "metadata": {},
   "outputs": [],
   "source": [
    "import datetime\n",
    "from genson import SchemaBuilder\n",
    "from genson.schema.strategies import TypedSchemaStrategy\n",
    "\n",
    "class CustomDateTime(TypedSchemaStrategy):\n",
    "    \"\"\"\n",
    "    strategy for date-time formatted strings\n",
    "    \"\"\"\n",
    "    JS_TYPE = 'string'\n",
    "    PYTHON_TYPE = (str, type(u''))\n",
    "\n",
    "    # create a new instance variable\n",
    "    def __init__(self, node_class):\n",
    "        super().__init__(node_class)\n",
    "        self.format = \"date-time\"\n",
    "\n",
    "    @classmethod\n",
    "    def match_object(self, obj):\n",
    "        super().match_object(obj)\n",
    "        try:\n",
    "            if isinstance(obj, datetime.datetime):\n",
    "                return True\n",
    "            else:\n",
    "                return False\n",
    "        except (TypeError, ValueError) as exception:\n",
    "            #print(exception)\n",
    "            return False\n",
    "\n",
    "    def to_schema(self):\n",
    "        schema = super().to_schema()\n",
    "        schema['type'] = self.JS_TYPE\n",
    "        schema['format'] = self.format\n",
    "        return schema\n",
    "\n",
    "class CustomSchemaBuilder(SchemaBuilder):\n",
    "    \"\"\" detects & labels date-time formatted strings \"\"\"\n",
    "    EXTRA_STRATEGIES = (CustomDateTime, )"
   ]
  },
  {
   "cell_type": "code",
   "execution_count": 21,
   "id": "fdaad048",
   "metadata": {},
   "outputs": [
    {
     "name": "stdout",
     "output_type": "stream",
     "text": [
      "{\n",
      "  \"$schema\": \"http://json-schema.org/schema#\",\n",
      "  \"type\": \"object\",\n",
      "  \"properties\": {\n",
      "    \"Id\": {\n",
      "      \"type\": \"integer\"\n",
      "    },\n",
      "    \"ShortDescription\": {\n",
      "      \"type\": \"string\"\n",
      "    },\n",
      "    \"BuyItNowPrice\": {\n",
      "      \"type\": [\n",
      "        \"integer\",\n",
      "        \"null\"\n",
      "      ]\n",
      "    },\n",
      "    \"SellerId\": {\n",
      "      \"type\": \"integer\"\n",
      "    },\n",
      "    \"SellerAlias\": {\n",
      "      \"type\": \"string\"\n",
      "    },\n",
      "    \"MaxBid\": {\n",
      "      \"type\": \"integer\"\n",
      "    },\n",
      "    \"ThumbnailLink\": {\n",
      "      \"type\": \"string\"\n",
      "    },\n",
      "    \"SellerDsrAverage\": {\n",
      "      \"type\": \"number\"\n",
      "    },\n",
      "    \"EndDate\": {\n",
      "      \"type\": \"string\",\n",
      "      \"format\": \"date-time\"\n",
      "    },\n",
      "    \"NextBid\": {\n",
      "      \"type\": \"integer\"\n",
      "    },\n",
      "    \"HasBids\": {\n",
      "      \"type\": \"boolean\"\n",
      "    },\n",
      "    \"IsEnded\": {\n",
      "      \"type\": \"boolean\"\n",
      "    },\n",
      "    \"ItemType\": {\n",
      "      \"type\": \"string\"\n",
      "    },\n",
      "    \"ItemUrl\": {\n",
      "      \"type\": \"string\"\n",
      "    },\n",
      "    \"CategoryId\": {\n",
      "      \"type\": \"integer\"\n",
      "    },\n",
      "    \"BidCount\": {\n",
      "      \"type\": \"integer\"\n",
      "    },\n",
      "    \"ImageLinks\": {\n",
      "      \"type\": \"object\",\n",
      "      \"properties\": {\n",
      "        \"ImageLink\": {\n",
      "          \"type\": \"array\",\n",
      "          \"items\": {\n",
      "            \"type\": \"object\",\n",
      "            \"properties\": {\n",
      "              \"Url\": {\n",
      "                \"type\": \"string\"\n",
      "              },\n",
      "              \"Format\": {\n",
      "                \"type\": \"string\"\n",
      "              }\n",
      "            },\n",
      "            \"required\": [\n",
      "              \"Format\",\n",
      "              \"Url\"\n",
      "            ]\n",
      "          }\n",
      "        }\n",
      "      },\n",
      "      \"required\": [\n",
      "        \"ImageLink\"\n",
      "      ]\n",
      "    },\n",
      "    \"AttributeValues\": {\n",
      "      \"type\": \"object\",\n",
      "      \"properties\": {\n",
      "        \"TermAttributeValues\": {\n",
      "          \"anyOf\": [\n",
      "            {\n",
      "              \"type\": \"null\"\n",
      "            },\n",
      "            {\n",
      "              \"type\": \"object\",\n",
      "              \"properties\": {\n",
      "                \"TermAttributeValue\": {\n",
      "                  \"type\": \"array\",\n",
      "                  \"items\": {\n",
      "                    \"type\": \"object\",\n",
      "                    \"properties\": {\n",
      "                      \"Id\": {\n",
      "                        \"type\": \"integer\"\n",
      "                      },\n",
      "                      \"Name\": {\n",
      "                        \"type\": \"string\"\n",
      "                      },\n",
      "                      \"Values\": {\n",
      "                        \"type\": \"object\",\n",
      "                        \"properties\": {\n",
      "                          \"string\": {\n",
      "                            \"type\": \"array\",\n",
      "                            \"items\": {\n",
      "                              \"type\": \"string\"\n",
      "                            }\n",
      "                          }\n",
      "                        },\n",
      "                        \"required\": [\n",
      "                          \"string\"\n",
      "                        ]\n",
      "                      }\n",
      "                    },\n",
      "                    \"required\": [\n",
      "                      \"Id\",\n",
      "                      \"Name\",\n",
      "                      \"Values\"\n",
      "                    ]\n",
      "                  }\n",
      "                }\n",
      "              },\n",
      "              \"required\": [\n",
      "                \"TermAttributeValue\"\n",
      "              ]\n",
      "            }\n",
      "          ]\n",
      "        },\n",
      "        \"NumberAttributeValues\": {\n",
      "          \"type\": \"null\"\n",
      "        }\n",
      "      },\n",
      "      \"required\": [\n",
      "        \"NumberAttributeValues\",\n",
      "        \"TermAttributeValues\"\n",
      "      ]\n",
      "    }\n",
      "  },\n",
      "  \"required\": [\n",
      "    \"AttributeValues\",\n",
      "    \"BidCount\",\n",
      "    \"BuyItNowPrice\",\n",
      "    \"CategoryId\",\n",
      "    \"EndDate\",\n",
      "    \"HasBids\",\n",
      "    \"Id\",\n",
      "    \"ImageLinks\",\n",
      "    \"IsEnded\",\n",
      "    \"ItemType\",\n",
      "    \"ItemUrl\",\n",
      "    \"MaxBid\",\n",
      "    \"NextBid\",\n",
      "    \"SellerAlias\",\n",
      "    \"SellerDsrAverage\",\n",
      "    \"SellerId\",\n",
      "    \"ShortDescription\",\n",
      "    \"ThumbnailLink\"\n",
      "  ]\n",
      "}\n"
     ]
    }
   ],
   "source": [
    "builder = CustomSchemaBuilder()\n",
    "for search_item in search_items:\n",
    "    builder.add_object(search_item)\n",
    "json_schema = builder.to_json(indent=2)\n",
    "print(json_schema)"
   ]
  },
  {
   "cell_type": "raw",
   "id": "9898b35d",
   "metadata": {},
   "source": [
    "!mkdir tap_tradera/schema"
   ]
  },
  {
   "cell_type": "raw",
   "id": "16d56be7",
   "metadata": {},
   "source": [
    "with open(\"tap_tradera/schema/search_item.json\", \"w\") as search_item_schema:\n",
    "    search_item_schema.write(json_schema)"
   ]
  },
  {
   "cell_type": "code",
   "execution_count": null,
   "id": "8fe9e5f6",
   "metadata": {},
   "outputs": [],
   "source": []
  }
 ],
 "metadata": {
  "kernelspec": {
   "display_name": "tap-tradera",
   "language": "python",
   "name": "tap-tradera"
  },
  "language_info": {
   "codemirror_mode": {
    "name": "ipython",
    "version": 3
   },
   "file_extension": ".py",
   "mimetype": "text/x-python",
   "name": "python",
   "nbconvert_exporter": "python",
   "pygments_lexer": "ipython3",
   "version": "3.8.11"
  },
  "vscode": {
   "interpreter": {
    "hash": "62a04690c01f949d6d3d71533a863a8502c11a71c86814862c379dd193f6f90f"
   }
  }
 },
 "nbformat": 4,
 "nbformat_minor": 5
}
