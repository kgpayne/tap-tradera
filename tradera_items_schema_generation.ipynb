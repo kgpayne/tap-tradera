{
 "cells": [
  {
   "cell_type": "code",
   "execution_count": null,
   "id": "0cdbfc42",
   "metadata": {},
   "outputs": [],
   "source": [
    "import os\n",
    "import dotenv"
   ]
  },
  {
   "cell_type": "code",
   "execution_count": null,
   "id": "63d11085",
   "metadata": {},
   "outputs": [],
   "source": [
    "import zeep\n",
    "import json\n",
    "from tap_tradera.client import TraderaClient"
   ]
  },
  {
   "cell_type": "code",
   "execution_count": null,
   "id": "dd98959e",
   "metadata": {},
   "outputs": [],
   "source": [
    "import csv"
   ]
  },
  {
   "cell_type": "code",
   "execution_count": null,
   "id": "3c704150",
   "metadata": {},
   "outputs": [],
   "source": [
    "with open('.secrets/item_ids.csv', 'r') as f:\n",
    "    reader = csv.reader(f)\n",
    "    item_ids = [row[0] for row in reader]"
   ]
  },
  {
   "cell_type": "code",
   "execution_count": null,
   "id": "df05df57",
   "metadata": {},
   "outputs": [],
   "source": [
    "len(item_ids)"
   ]
  },
  {
   "cell_type": "code",
   "execution_count": null,
   "id": "b86397be",
   "metadata": {},
   "outputs": [],
   "source": [
    "dotenv.load_dotenv(\".env\")"
   ]
  },
  {
   "cell_type": "code",
   "execution_count": null,
   "id": "d6c0b0f6",
   "metadata": {},
   "outputs": [],
   "source": [
    "client = TraderaClient(\n",
    "    app_id=os.getenv(\"TAP_TRADERA_APP_ID\"), app_key=os.getenv(\"TAP_TRADERA_APP_KEY\")\n",
    ")"
   ]
  },
  {
   "cell_type": "code",
   "execution_count": null,
   "id": "03b0159d",
   "metadata": {},
   "outputs": [],
   "source": [
    "items = [\n",
    "    client.get_item(item_id) for item_id in item_ids\n",
    "]\n",
    "items[0]"
   ]
  },
  {
   "cell_type": "code",
   "execution_count": null,
   "id": "1adc4e0b",
   "metadata": {},
   "outputs": [],
   "source": [
    "for item in items:\n",
    "    json.dumps(item)"
   ]
  },
  {
   "cell_type": "code",
   "execution_count": null,
   "id": "fd416c4a",
   "metadata": {},
   "outputs": [],
   "source": [
    "import datetime\n",
    "from decimal import Decimal\n",
    "from genson import SchemaBuilder\n",
    "from genson.schema.strategies import TypedSchemaStrategy\n",
    "\n",
    "class CustomDateTime(TypedSchemaStrategy):\n",
    "    \"\"\"\n",
    "    strategy for date-time formatted strings\n",
    "    \"\"\"\n",
    "    JS_TYPE = 'string'\n",
    "    PYTHON_TYPE = (str, type(u''))\n",
    "\n",
    "    # create a new instance variable\n",
    "    def __init__(self, node_class):\n",
    "        super().__init__(node_class)\n",
    "        self.format = \"date-time\"\n",
    "\n",
    "    @classmethod\n",
    "    def match_object(self, obj):\n",
    "        super().match_object(obj)\n",
    "        try:\n",
    "            if isinstance(obj, datetime.datetime):\n",
    "                return True\n",
    "            else:\n",
    "                return False\n",
    "        except (TypeError, ValueError) as exception:\n",
    "            #print(exception)\n",
    "            return False\n",
    "\n",
    "    def to_schema(self):\n",
    "        schema = super().to_schema()\n",
    "        schema['type'] = self.JS_TYPE\n",
    "        schema['format'] = self.format\n",
    "        return schema\n",
    "\n",
    "class CustomDecimal(TypedSchemaStrategy):\n",
    "    \"\"\"\n",
    "    strategy for date-time formatted strings\n",
    "    \"\"\"\n",
    "    JS_TYPE = 'number'\n",
    "    PYTHON_TYPE = (Decimal, )\n",
    "\n",
    "    @classmethod\n",
    "    def match_object(self, obj):\n",
    "        super().match_object(obj)\n",
    "        try:\n",
    "            if isinstance(obj, Decimal):\n",
    "                return True\n",
    "            else:\n",
    "                return False\n",
    "        except (TypeError, ValueError) as exception:\n",
    "            #print(exception)\n",
    "            return False\n",
    "\n",
    "    def to_schema(self):\n",
    "        schema = super().to_schema()\n",
    "        schema['type'] = self.JS_TYPE\n",
    "        return schema\n",
    "    \n",
    "class CustomSchemaBuilder(SchemaBuilder):\n",
    "    \"\"\" detects & labels date-time formatted strings \"\"\"\n",
    "    EXTRA_STRATEGIES = (CustomDateTime, CustomDecimal, )"
   ]
  },
  {
   "cell_type": "code",
   "execution_count": null,
   "id": "29ea1708",
   "metadata": {},
   "outputs": [],
   "source": [
    "builder = CustomSchemaBuilder()\n",
    "for search_item in items:\n",
    "    builder.add_object(search_item)\n",
    "json_schema = builder.to_json(indent=2)\n",
    "print(json_schema)"
   ]
  },
  {
   "cell_type": "code",
   "execution_count": null,
   "id": "b1057c44",
   "metadata": {},
   "outputs": [],
   "source": [
    "with open(\"tap_tradera/schemas/item.json\", \"w\") as item_schema:\n",
    "    item_schema.write(json_schema)"
   ]
  },
  {
   "cell_type": "code",
   "execution_count": null,
   "id": "c6bfaa1e",
   "metadata": {},
   "outputs": [],
   "source": []
  }
 ],
 "metadata": {
  "kernelspec": {
   "display_name": "tap-tradera",
   "language": "python",
   "name": "tap-tradera"
  },
  "language_info": {
   "codemirror_mode": {
    "name": "ipython",
    "version": 3
   },
   "file_extension": ".py",
   "mimetype": "text/x-python",
   "name": "python",
   "nbconvert_exporter": "python",
   "pygments_lexer": "ipython3",
   "version": "3.8.11"
  }
 },
 "nbformat": 4,
 "nbformat_minor": 5
}
